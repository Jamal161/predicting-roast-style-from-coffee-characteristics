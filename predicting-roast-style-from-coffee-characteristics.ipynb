{
 "cells": [
  {
   "cell_type": "markdown",
   "id": "ff580a9b",
   "metadata": {
    "papermill": {
     "duration": 0.005012,
     "end_time": "2022-11-09T03:09:11.309369",
     "exception": false,
     "start_time": "2022-11-09T03:09:11.304357",
     "status": "completed"
    },
    "tags": []
   },
   "source": [
    "## Looking at the data, I wondered can we predict the \"roast style\" from the coffee's characteristics. Let's find out !"
   ]
  },
  {
   "cell_type": "code",
   "execution_count": 1,
   "id": "f4160a12",
   "metadata": {
    "_cell_guid": "b1076dfc-b9ad-4769-8c92-a6c4dae69d19",
    "_uuid": "8f2839f25d086af736a60e9eeb907d3b93b6e0e5",
    "execution": {
     "iopub.execute_input": "2022-11-09T03:09:11.319710Z",
     "iopub.status.busy": "2022-11-09T03:09:11.318684Z",
     "iopub.status.idle": "2022-11-09T03:09:22.690993Z",
     "shell.execute_reply": "2022-11-09T03:09:22.689974Z"
    },
    "papermill": {
     "duration": 11.380059,
     "end_time": "2022-11-09T03:09:22.693621",
     "exception": false,
     "start_time": "2022-11-09T03:09:11.313562",
     "status": "completed"
    },
    "tags": []
   },
   "outputs": [],
   "source": [
    "# standard libraries\n",
    "import numpy as np # linear algebra\n",
    "import pandas as pd # data processing, CSV file I/O (e.g. pd.read_csv)\n",
    "import gc\n",
    "import warnings\n",
    "warnings.simplefilter('ignore')\n",
    "\n",
    "# tensorflow\n",
    "from tensorflow import keras as kr\n",
    "from keras.utils import np_utils\n",
    "from tqdm.keras import TqdmCallback\n",
    "\n",
    "# sklearn\n",
    "from sklearn.preprocessing import LabelEncoder\n",
    "from sklearn.model_selection import train_test_split\n",
    "from sklearn.metrics import confusion_matrix, classification_report\n",
    "\n",
    "# visualisation\n",
    "import matplotlib.pyplot as plt\n",
    "import seaborn as sns"
   ]
  },
  {
   "cell_type": "code",
   "execution_count": 2,
   "id": "d2e412cd",
   "metadata": {
    "execution": {
     "iopub.execute_input": "2022-11-09T03:09:22.703980Z",
     "iopub.status.busy": "2022-11-09T03:09:22.703422Z",
     "iopub.status.idle": "2022-11-09T03:09:22.847744Z",
     "shell.execute_reply": "2022-11-09T03:09:22.846571Z"
    },
    "papermill": {
     "duration": 0.152538,
     "end_time": "2022-11-09T03:09:22.850643",
     "exception": false,
     "start_time": "2022-11-09T03:09:22.698105",
     "status": "completed"
    },
    "tags": []
   },
   "outputs": [
    {
     "name": "stdout",
     "output_type": "stream",
     "text": [
      "Found 2282 records with 7 roast types\n"
     ]
    }
   ],
   "source": [
    "# file\n",
    "file = '../input/coffee-scrap-coffeereview/coffee_fix.csv'\n",
    "\n",
    "# load data\n",
    "use_cols = ['roast','aroma','acid','body','flavor','aftertaste']\n",
    "df = pd.read_csv(file,usecols=use_cols)\n",
    "\n",
    "# fill NULLs with 0 in coffee characteristics & 'Unknown' in roast\n",
    "values = {'roast': 'Unknown', 'aroma': 0.0, 'acid': 0.0, 'body': 0.0, 'flavor': 0.0, 'aftertaste': 0.0}\n",
    "df.fillna(values, inplace=True)\n",
    "\n",
    "# encoding labels\n",
    "le = LabelEncoder()\n",
    "df['roast'] = le.fit_transform(df['roast'])\n",
    "\n",
    "# view\n",
    "print(f'Found {df.shape[0]} records with {len(le.classes_)} roast types')"
   ]
  },
  {
   "cell_type": "code",
   "execution_count": 3,
   "id": "646405c0",
   "metadata": {
    "execution": {
     "iopub.execute_input": "2022-11-09T03:09:22.862157Z",
     "iopub.status.busy": "2022-11-09T03:09:22.861596Z",
     "iopub.status.idle": "2022-11-09T03:09:22.868126Z",
     "shell.execute_reply": "2022-11-09T03:09:22.866794Z"
    },
    "papermill": {
     "duration": 0.014537,
     "end_time": "2022-11-09T03:09:22.870266",
     "exception": false,
     "start_time": "2022-11-09T03:09:22.855729",
     "status": "completed"
    },
    "tags": []
   },
   "outputs": [
    {
     "name": "stdout",
     "output_type": "stream",
     "text": [
      "Roast Types:  Dark, Light, Medium, Medium-Dark, Medium-Light, Unknown, Very Dark\n"
     ]
    }
   ],
   "source": [
    "# list of classes\n",
    "print(\"Roast Types: \", ', '.join(i for i in list(le.classes_)))"
   ]
  },
  {
   "cell_type": "markdown",
   "id": "25bc945a",
   "metadata": {
    "papermill": {
     "duration": 0.003996,
     "end_time": "2022-11-09T03:09:22.878709",
     "exception": false,
     "start_time": "2022-11-09T03:09:22.874713",
     "status": "completed"
    },
    "tags": []
   },
   "source": [
    "**Luckily everything is in numerical format, so we can get straight to feature engineering ...**"
   ]
  },
  {
   "cell_type": "code",
   "execution_count": 4,
   "id": "a223c82c",
   "metadata": {
    "execution": {
     "iopub.execute_input": "2022-11-09T03:09:22.888344Z",
     "iopub.status.busy": "2022-11-09T03:09:22.888072Z",
     "iopub.status.idle": "2022-11-09T03:09:22.898300Z",
     "shell.execute_reply": "2022-11-09T03:09:22.897377Z"
    },
    "papermill": {
     "duration": 0.017526,
     "end_time": "2022-11-09T03:09:22.900463",
     "exception": false,
     "start_time": "2022-11-09T03:09:22.882937",
     "status": "completed"
    },
    "tags": []
   },
   "outputs": [],
   "source": [
    "# feature engineering\n",
    "x = df.iloc[:, 1:6]    # aroma, acid, body, flavor, aftertaste\n",
    "y = df.iloc[:, :1]    # roast\n",
    "\n",
    "# convert array to labelled data\n",
    "''' getting the number of classes from the Label Encoder.\n",
    "    If this field is not provided then the function will create n+1 classes\n",
    "'''\n",
    "y_cat = np_utils.to_categorical(y, num_classes=len(list(le.classes_)))"
   ]
  },
  {
   "cell_type": "code",
   "execution_count": 5,
   "id": "7e4bc993",
   "metadata": {
    "execution": {
     "iopub.execute_input": "2022-11-09T03:09:22.910020Z",
     "iopub.status.busy": "2022-11-09T03:09:22.909714Z",
     "iopub.status.idle": "2022-11-09T03:09:22.917893Z",
     "shell.execute_reply": "2022-11-09T03:09:22.916394Z"
    },
    "papermill": {
     "duration": 0.015877,
     "end_time": "2022-11-09T03:09:22.920541",
     "exception": false,
     "start_time": "2022-11-09T03:09:22.904664",
     "status": "completed"
    },
    "tags": []
   },
   "outputs": [
    {
     "name": "stdout",
     "output_type": "stream",
     "text": [
      "Training Records = 2053 | Validation Record 229 \n"
     ]
    }
   ],
   "source": [
    "# training & test data split [90-10]\n",
    "x_train, x_test, y_train, y_test = train_test_split(x, y_cat, test_size=0.10, random_state= np.random.randint(10))\n",
    "print(f\"Training Records = {x_train.shape[0]} | Validation Record {x_test.shape[0]} \")"
   ]
  },
  {
   "cell_type": "markdown",
   "id": "da01c147",
   "metadata": {
    "papermill": {
     "duration": 0.004279,
     "end_time": "2022-11-09T03:09:22.929633",
     "exception": false,
     "start_time": "2022-11-09T03:09:22.925354",
     "status": "completed"
    },
    "tags": []
   },
   "source": [
    "### Simple Keras Model"
   ]
  },
  {
   "cell_type": "code",
   "execution_count": 6,
   "id": "893572b0",
   "metadata": {
    "execution": {
     "iopub.execute_input": "2022-11-09T03:09:22.940358Z",
     "iopub.status.busy": "2022-11-09T03:09:22.939450Z",
     "iopub.status.idle": "2022-11-09T03:09:29.425249Z",
     "shell.execute_reply": "2022-11-09T03:09:29.424179Z"
    },
    "papermill": {
     "duration": 6.494668,
     "end_time": "2022-11-09T03:09:29.428946",
     "exception": false,
     "start_time": "2022-11-09T03:09:22.934278",
     "status": "completed"
    },
    "tags": []
   },
   "outputs": [
    {
     "name": "stdout",
     "output_type": "stream",
     "text": [
      "Model: \"sequential\"\n",
      "_________________________________________________________________\n",
      "Layer (type)                 Output Shape              Param #   \n",
      "=================================================================\n",
      "dense (Dense)                (None, 257)               1542      \n",
      "_________________________________________________________________\n",
      "dense_1 (Dense)              (None, 11)                2838      \n",
      "_________________________________________________________________\n",
      "dropout (Dropout)            (None, 11)                0         \n",
      "_________________________________________________________________\n",
      "dense_2 (Dense)              (None, 11)                132       \n",
      "_________________________________________________________________\n",
      "dropout_1 (Dropout)          (None, 11)                0         \n",
      "_________________________________________________________________\n",
      "dense_3 (Dense)              (None, 7)                 84        \n",
      "=================================================================\n",
      "Total params: 4,596\n",
      "Trainable params: 4,596\n",
      "Non-trainable params: 0\n",
      "_________________________________________________________________\n"
     ]
    },
    {
     "name": "stderr",
     "output_type": "stream",
     "text": [
      "2022-11-09 03:09:23.625852: I tensorflow/stream_executor/cuda/cuda_gpu_executor.cc:937] successful NUMA node read from SysFS had negative value (-1), but there must be at least one NUMA node, so returning NUMA node zero\n",
      "2022-11-09 03:09:23.626825: I tensorflow/stream_executor/cuda/cuda_gpu_executor.cc:937] successful NUMA node read from SysFS had negative value (-1), but there must be at least one NUMA node, so returning NUMA node zero\n",
      "2022-11-09 03:09:23.978418: I tensorflow/stream_executor/cuda/cuda_gpu_executor.cc:937] successful NUMA node read from SysFS had negative value (-1), but there must be at least one NUMA node, so returning NUMA node zero\n",
      "2022-11-09 03:09:23.979401: I tensorflow/stream_executor/cuda/cuda_gpu_executor.cc:937] successful NUMA node read from SysFS had negative value (-1), but there must be at least one NUMA node, so returning NUMA node zero\n",
      "2022-11-09 03:09:23.980285: I tensorflow/stream_executor/cuda/cuda_gpu_executor.cc:937] successful NUMA node read from SysFS had negative value (-1), but there must be at least one NUMA node, so returning NUMA node zero\n",
      "2022-11-09 03:09:23.981094: I tensorflow/stream_executor/cuda/cuda_gpu_executor.cc:937] successful NUMA node read from SysFS had negative value (-1), but there must be at least one NUMA node, so returning NUMA node zero\n",
      "2022-11-09 03:09:23.982265: I tensorflow/core/platform/cpu_feature_guard.cc:142] This TensorFlow binary is optimized with oneAPI Deep Neural Network Library (oneDNN) to use the following CPU instructions in performance-critical operations:  AVX2 AVX512F FMA\n",
      "To enable them in other operations, rebuild TensorFlow with the appropriate compiler flags.\n",
      "2022-11-09 03:09:24.251521: I tensorflow/stream_executor/cuda/cuda_gpu_executor.cc:937] successful NUMA node read from SysFS had negative value (-1), but there must be at least one NUMA node, so returning NUMA node zero\n",
      "2022-11-09 03:09:24.252459: I tensorflow/stream_executor/cuda/cuda_gpu_executor.cc:937] successful NUMA node read from SysFS had negative value (-1), but there must be at least one NUMA node, so returning NUMA node zero\n",
      "2022-11-09 03:09:24.253228: I tensorflow/stream_executor/cuda/cuda_gpu_executor.cc:937] successful NUMA node read from SysFS had negative value (-1), but there must be at least one NUMA node, so returning NUMA node zero\n",
      "2022-11-09 03:09:24.253987: I tensorflow/stream_executor/cuda/cuda_gpu_executor.cc:937] successful NUMA node read from SysFS had negative value (-1), but there must be at least one NUMA node, so returning NUMA node zero\n",
      "2022-11-09 03:09:24.254728: I tensorflow/stream_executor/cuda/cuda_gpu_executor.cc:937] successful NUMA node read from SysFS had negative value (-1), but there must be at least one NUMA node, so returning NUMA node zero\n",
      "2022-11-09 03:09:24.255474: I tensorflow/stream_executor/cuda/cuda_gpu_executor.cc:937] successful NUMA node read from SysFS had negative value (-1), but there must be at least one NUMA node, so returning NUMA node zero\n",
      "2022-11-09 03:09:28.978716: I tensorflow/stream_executor/cuda/cuda_gpu_executor.cc:937] successful NUMA node read from SysFS had negative value (-1), but there must be at least one NUMA node, so returning NUMA node zero\n",
      "2022-11-09 03:09:28.979634: I tensorflow/stream_executor/cuda/cuda_gpu_executor.cc:937] successful NUMA node read from SysFS had negative value (-1), but there must be at least one NUMA node, so returning NUMA node zero\n",
      "2022-11-09 03:09:28.980461: I tensorflow/stream_executor/cuda/cuda_gpu_executor.cc:937] successful NUMA node read from SysFS had negative value (-1), but there must be at least one NUMA node, so returning NUMA node zero\n",
      "2022-11-09 03:09:28.981225: I tensorflow/stream_executor/cuda/cuda_gpu_executor.cc:937] successful NUMA node read from SysFS had negative value (-1), but there must be at least one NUMA node, so returning NUMA node zero\n",
      "2022-11-09 03:09:28.982000: I tensorflow/stream_executor/cuda/cuda_gpu_executor.cc:937] successful NUMA node read from SysFS had negative value (-1), but there must be at least one NUMA node, so returning NUMA node zero\n",
      "2022-11-09 03:09:28.982896: I tensorflow/core/common_runtime/gpu/gpu_device.cc:1510] Created device /job:localhost/replica:0/task:0/device:GPU:0 with 13789 MB memory:  -> device: 0, name: Tesla T4, pci bus id: 0000:00:04.0, compute capability: 7.5\n",
      "2022-11-09 03:09:28.988196: I tensorflow/stream_executor/cuda/cuda_gpu_executor.cc:937] successful NUMA node read from SysFS had negative value (-1), but there must be at least one NUMA node, so returning NUMA node zero\n",
      "2022-11-09 03:09:28.988945: I tensorflow/core/common_runtime/gpu/gpu_device.cc:1510] Created device /job:localhost/replica:0/task:0/device:GPU:1 with 13789 MB memory:  -> device: 1, name: Tesla T4, pci bus id: 0000:00:05.0, compute capability: 7.5\n"
     ]
    }
   ],
   "source": [
    "# define model params\n",
    "input_shape = x_train.shape[1]                                                          # input shape is always the number features\n",
    "output_shape = y_cat.shape[1]                                                           # output shape is the number of categories / classes we want the model to output (in this case its 3)\n",
    "nodes = np.ceil(2 * input_shape / 3 + output_shape).astype(int)                         # as per the above rule\n",
    "batch_size = np.ceil(len(x_train) / 8).astype(int)                                     # 1/16th of the total X_train [sending in small batch]\n",
    "\n",
    "# build model\n",
    "model = kr.models.Sequential()\n",
    "# input layer\n",
    "model.add(kr.layers.Dense(batch_size,input_shape=(input_shape,),activation='selu'))\n",
    "\n",
    "# hidden layer\n",
    "model.add(kr.layers.Dense(nodes,activation='selu'))\n",
    "# dropout layer\n",
    "model.add(kr.layers.Dropout(0.2))\n",
    "\n",
    "# hidden layer\n",
    "model.add(kr.layers.Dense(nodes,activation='selu'))\n",
    "# dropout layer\n",
    "model.add(kr.layers.Dropout(0.2))\n",
    "\n",
    "# output layer\n",
    "model.add(kr.layers.Dense(output_shape,activation='softmax'))\n",
    "\n",
    "# compile model\n",
    "model.compile(loss='categorical_crossentropy', optimizer='adam', metrics=['accuracy'])\n",
    "\n",
    "# summmary\n",
    "model.summary()"
   ]
  },
  {
   "cell_type": "code",
   "execution_count": 7,
   "id": "b6ce1c54",
   "metadata": {
    "execution": {
     "iopub.execute_input": "2022-11-09T03:09:29.440847Z",
     "iopub.status.busy": "2022-11-09T03:09:29.440516Z",
     "iopub.status.idle": "2022-11-09T03:10:11.210876Z",
     "shell.execute_reply": "2022-11-09T03:10:11.209719Z"
    },
    "papermill": {
     "duration": 41.778313,
     "end_time": "2022-11-09T03:10:11.213470",
     "exception": false,
     "start_time": "2022-11-09T03:09:29.435157",
     "status": "completed"
    },
    "tags": []
   },
   "outputs": [
    {
     "data": {
      "application/vnd.jupyter.widget-view+json": {
       "model_id": "55ce3d3dc809425eb0fe8d7e6b4737b5",
       "version_major": 2,
       "version_minor": 0
      },
      "text/plain": [
       "0epoch [00:00, ?epoch/s]"
      ]
     },
     "metadata": {},
     "output_type": "display_data"
    },
    {
     "name": "stderr",
     "output_type": "stream",
     "text": [
      "2022-11-09 03:09:29.725692: I tensorflow/compiler/mlir/mlir_graph_optimization_pass.cc:185] None of the MLIR Optimization Passes are enabled (registered 2)\n"
     ]
    }
   ],
   "source": [
    "# model fit params\n",
    "epoch = 500\n",
    "\n",
    "# for re-runs\n",
    "gc.collect()\n",
    "kr.backend.clear_session()\n",
    "\n",
    "# fit the keras model on the dataset\n",
    "hist = model.fit(x_train\n",
    "                ,y_train\n",
    "                ,epochs = epoch\n",
    "                ,batch_size=batch_size\n",
    "                ,shuffle=True\n",
    "                ,validation_data=(x_test, y_test)\n",
    "                ,verbose=0\n",
    "                ,callbacks=[TqdmCallback(verbose=0)])"
   ]
  },
  {
   "cell_type": "code",
   "execution_count": 8,
   "id": "5a56d77a",
   "metadata": {
    "_kg_hide-input": true,
    "execution": {
     "iopub.execute_input": "2022-11-09T03:10:11.225441Z",
     "iopub.status.busy": "2022-11-09T03:10:11.224517Z",
     "iopub.status.idle": "2022-11-09T03:10:11.736666Z",
     "shell.execute_reply": "2022-11-09T03:10:11.735800Z"
    },
    "papermill": {
     "duration": 0.522709,
     "end_time": "2022-11-09T03:10:11.741551",
     "exception": false,
     "start_time": "2022-11-09T03:10:11.218842",
     "status": "completed"
    },
    "tags": []
   },
   "outputs": [
    {
     "name": "stdout",
     "output_type": "stream",
     "text": [
      "Our model has achieved an accuracy of  69.70% in 500\n",
      "\n",
      "\n"
     ]
    },
    {
     "data": {
      "image/png": "[encoded data removed]",
      "text/plain": [
       "<Figure size 1440x720 with 2 Axes>"
      ]
     },
     "metadata": {
      "needs_background": "light"
     },
     "output_type": "display_data"
    }
   ],
   "source": [
    "acc = '{:.2%}'.format(hist.history['accuracy'][-1])\n",
    "print(f\"Our model has achieved an accuracy of  {acc} in {epoch}\")\n",
    "print('\\n')\n",
    "# visualize training results\n",
    "acc = hist.history['accuracy']\n",
    "val_acc = hist.history['val_accuracy']\n",
    "\n",
    "loss = hist.history['loss']\n",
    "val_loss = hist.history['val_loss']\n",
    "\n",
    "epochs_range = range(epoch)\n",
    "\n",
    "plt.figure(figsize=(20, 10))\n",
    "plt.subplot(1, 2, 1)\n",
    "plt.plot(epochs_range, acc, label='Training Accuracy')\n",
    "plt.plot(epochs_range, val_acc, label='Validation Accuracy')\n",
    "plt.legend(loc='lower right')\n",
    "plt.title('Training and Validation Accuracy')\n",
    "\n",
    "plt.subplot(1, 2, 2)\n",
    "plt.plot(epochs_range, loss, label='Training Loss')\n",
    "plt.plot(epochs_range, val_loss, label='Validation Loss')\n",
    "plt.legend(loc='upper right')\n",
    "plt.title('Training and Validation Loss')\n",
    "plt.show()"
   ]
  },
  {
   "cell_type": "code",
   "execution_count": 9,
   "id": "e89ac89e",
   "metadata": {
    "_kg_hide-input": true,
    "execution": {
     "iopub.execute_input": "2022-11-09T03:10:11.769764Z",
     "iopub.status.busy": "2022-11-09T03:10:11.769030Z",
     "iopub.status.idle": "2022-11-09T03:10:11.969337Z",
     "shell.execute_reply": "2022-11-09T03:10:11.967462Z"
    },
    "papermill": {
     "duration": 0.218688,
     "end_time": "2022-11-09T03:10:11.972511",
     "exception": false,
     "start_time": "2022-11-09T03:10:11.753823",
     "status": "completed"
    },
    "tags": []
   },
   "outputs": [
    {
     "name": "stdout",
     "output_type": "stream",
     "text": [
      "              precision    recall  f1-score   support\n",
      "\n",
      "Medium-Light       0.00      0.00      0.00         0\n",
      "      Medium       0.00      0.00      0.00        29\n",
      "       Light       0.00      0.00      0.00        29\n",
      " Medium-Dark       0.00      0.00      0.00         7\n",
      "     Unknown       0.70      1.00      0.83       157\n",
      "        Dark       1.00      0.43      0.60         7\n",
      "\n",
      "    accuracy                           0.70       229\n",
      "   macro avg       0.28      0.24      0.24       229\n",
      "weighted avg       0.51      0.70      0.58       229\n",
      "\n"
     ]
    }
   ],
   "source": [
    "# Confusion Matrix & Classfication Report\n",
    "y_pred = model.predict(x_test)\n",
    "y_pred_class = np.argmax(y_pred, axis=1)\n",
    "y_test_class = np.argmax(y_test, axis=1)\n",
    "\n",
    "# classification report\n",
    "class_names = []\n",
    "for i in y['roast'].unique().tolist():\n",
    "    if i == 6:\n",
    "        pass\n",
    "    else:\n",
    "        class_names.append(le.inverse_transform([i])[0])\n",
    "#class_names\n",
    "print(classification_report(y_test_class, y_pred_class, target_names=class_names))"
   ]
  },
  {
   "cell_type": "markdown",
   "id": "c720520d",
   "metadata": {
    "papermill": {
     "duration": 0.010364,
     "end_time": "2022-11-09T03:10:11.991877",
     "exception": false,
     "start_time": "2022-11-09T03:10:11.981513",
     "status": "completed"
    },
    "tags": []
   },
   "source": [
    "### Simple LSTM Model"
   ]
  },
  {
   "cell_type": "code",
   "execution_count": 10,
   "id": "7b8446a8",
   "metadata": {
    "execution": {
     "iopub.execute_input": "2022-11-09T03:10:12.012384Z",
     "iopub.status.busy": "2022-11-09T03:10:12.011782Z",
     "iopub.status.idle": "2022-11-09T03:10:12.020810Z",
     "shell.execute_reply": "2022-11-09T03:10:12.019699Z"
    },
    "papermill": {
     "duration": 0.021674,
     "end_time": "2022-11-09T03:10:12.022872",
     "exception": false,
     "start_time": "2022-11-09T03:10:12.001198",
     "status": "completed"
    },
    "tags": []
   },
   "outputs": [],
   "source": [
    "# reshaping x_train & x_test for efficient modelling\n",
    "x_train_reshaped = np.reshape(np.array(x_train), (x_train.shape[0],x_train.shape[1],1))\n",
    "x_test_reshaped = np.reshape(np.array(x_test), (x_test.shape[0],x_test.shape[1],1))"
   ]
  },
  {
   "cell_type": "code",
   "execution_count": 11,
   "id": "cf6b752e",
   "metadata": {
    "execution": {
     "iopub.execute_input": "2022-11-09T03:10:12.041325Z",
     "iopub.status.busy": "2022-11-09T03:10:12.040992Z",
     "iopub.status.idle": "2022-11-09T03:10:12.200185Z",
     "shell.execute_reply": "2022-11-09T03:10:12.199173Z"
    },
    "papermill": {
     "duration": 0.172556,
     "end_time": "2022-11-09T03:10:12.203840",
     "exception": false,
     "start_time": "2022-11-09T03:10:12.031284",
     "status": "completed"
    },
    "tags": []
   },
   "outputs": [
    {
     "name": "stdout",
     "output_type": "stream",
     "text": [
      "Model: \"sequential\"\n",
      "_________________________________________________________________\n",
      "Layer (type)                 Output Shape              Param #   \n",
      "=================================================================\n",
      "lstm (LSTM)                  (None, 11)                572       \n",
      "_________________________________________________________________\n",
      "dropout (Dropout)            (None, 11)                0         \n",
      "_________________________________________________________________\n",
      "dense (Dense)                (None, 7)                 84        \n",
      "=================================================================\n",
      "Total params: 656\n",
      "Trainable params: 656\n",
      "Non-trainable params: 0\n",
      "_________________________________________________________________\n"
     ]
    }
   ],
   "source": [
    "# define model params\n",
    "input_shape = x_train_reshaped.shape[1]                                                         \n",
    "output_shape = y_cat.shape[1]                                                           \n",
    "nodes = np.ceil(2 * input_shape / 3 + output_shape).astype(int)                         \n",
    "batch_size = np.ceil(len(x_train_reshaped) / 16).astype(int)   \n",
    "\n",
    "\n",
    "# build model\n",
    "LSTMModel = kr.models.Sequential()\n",
    "\n",
    "# input layer\n",
    "LSTMModel.add(kr.layers.LSTM(units=nodes, \n",
    "                           return_sequences=False,\n",
    "                           input_shape=(input_shape,1),\n",
    "                           activation='relu'))\n",
    "# dropout layer\n",
    "LSTMModel.add(kr.layers.Dropout(0.2))\n",
    "\n",
    "# output layer\n",
    "LSTMModel.add(kr.layers.Dense(output_shape\n",
    "                             ,activation='softmax'))\n",
    "\n",
    "# compile\n",
    "LSTMModel.compile(loss='categorical_crossentropy', optimizer='adam', metrics=['accuracy'])\n",
    "\n",
    "# summary\n",
    "LSTMModel.summary()"
   ]
  },
  {
   "cell_type": "code",
   "execution_count": 12,
   "id": "1082c07e",
   "metadata": {
    "execution": {
     "iopub.execute_input": "2022-11-09T03:10:12.218301Z",
     "iopub.status.busy": "2022-11-09T03:10:12.218016Z",
     "iopub.status.idle": "2022-11-09T03:10:35.355454Z",
     "shell.execute_reply": "2022-11-09T03:10:35.354796Z"
    },
    "papermill": {
     "duration": 23.146997,
     "end_time": "2022-11-09T03:10:35.357431",
     "exception": false,
     "start_time": "2022-11-09T03:10:12.210434",
     "status": "completed"
    },
    "tags": []
   },
   "outputs": [
    {
     "data": {
      "application/vnd.jupyter.widget-view+json": {
       "model_id": "d048fb0c9b0047b8a3f66e715ef0f563",
       "version_major": 2,
       "version_minor": 0
      },
      "text/plain": [
       "0epoch [00:00, ?epoch/s]"
      ]
     },
     "metadata": {},
     "output_type": "display_data"
    }
   ],
   "source": [
    "# epoch\n",
    "epoch = 100\n",
    "\n",
    "# for re-running\n",
    "gc.collect()\n",
    "kr.backend.clear_session()\n",
    "\n",
    "# fit/train model\n",
    "'''using the same epoch setting as above'''\n",
    "hist = LSTMModel.fit(x_train_reshaped, \n",
    "                    y_train, \n",
    "                    epochs=epoch,\n",
    "                    batch_size=batch_size,\n",
    "                    verbose=0,\n",
    "                    shuffle=True,\n",
    "                    callbacks=[TqdmCallback(verbose=0)],\n",
    "                    validation_data=(x_test_reshaped, y_test))"
   ]
  },
  {
   "cell_type": "code",
   "execution_count": 13,
   "id": "96d29dd9",
   "metadata": {
    "execution": {
     "iopub.execute_input": "2022-11-09T03:10:35.371253Z",
     "iopub.status.busy": "2022-11-09T03:10:35.370358Z",
     "iopub.status.idle": "2022-11-09T03:10:35.746501Z",
     "shell.execute_reply": "2022-11-09T03:10:35.745649Z"
    },
    "papermill": {
     "duration": 0.384988,
     "end_time": "2022-11-09T03:10:35.748538",
     "exception": false,
     "start_time": "2022-11-09T03:10:35.363550",
     "status": "completed"
    },
    "tags": []
   },
   "outputs": [
    {
     "name": "stdout",
     "output_type": "stream",
     "text": [
      "Our model has achieved an accuracy of  68.24% in 100\n",
      "\n",
      "\n"
     ]
    },
    {
     "data": {
      "image/png": "[encoded data removed]",
      "text/plain": [
       "<Figure size 1440x720 with 2 Axes>"
      ]
     },
     "metadata": {
      "needs_background": "light"
     },
     "output_type": "display_data"
    }
   ],
   "source": [
    "# accuracy\n",
    "acc_lstm = '{:.2%}'.format(hist.history['accuracy'][-1])\n",
    "print(f\"Our model has achieved an accuracy of  {acc_lstm} in {epoch}\")\n",
    "\n",
    "print('\\n')\n",
    "\n",
    "# visualize training results\n",
    "acc = hist.history['accuracy']\n",
    "val_acc = hist.history['val_accuracy']\n",
    "\n",
    "loss = hist.history['loss']\n",
    "val_loss = hist.history['val_loss']\n",
    "\n",
    "epochs_range = range(epoch)\n",
    "\n",
    "plt.figure(figsize=(20, 10))\n",
    "plt.subplot(1, 2, 1)\n",
    "plt.plot(epochs_range, acc, label='Training Accuracy')\n",
    "plt.plot(epochs_range, val_acc, label='Validation Accuracy')\n",
    "plt.legend(loc='lower right')\n",
    "plt.title('Training and Validation Accuracy')\n",
    "\n",
    "plt.subplot(1, 2, 2)\n",
    "plt.plot(epochs_range, loss, label='Training Loss')\n",
    "plt.plot(epochs_range, val_loss, label='Validation Loss')\n",
    "plt.legend(loc='upper right')\n",
    "plt.title('Training and Validation Loss')\n",
    "plt.show()"
   ]
  },
  {
   "cell_type": "code",
   "execution_count": 14,
   "id": "c75cedfd",
   "metadata": {
    "_kg_hide-input": true,
    "execution": {
     "iopub.execute_input": "2022-11-09T03:10:35.764412Z",
     "iopub.status.busy": "2022-11-09T03:10:35.762981Z",
     "iopub.status.idle": "2022-11-09T03:10:35.931743Z",
     "shell.execute_reply": "2022-11-09T03:10:35.929873Z"
    },
    "papermill": {
     "duration": 0.178609,
     "end_time": "2022-11-09T03:10:35.934031",
     "exception": false,
     "start_time": "2022-11-09T03:10:35.755422",
     "status": "completed"
    },
    "tags": []
   },
   "outputs": [
    {
     "name": "stdout",
     "output_type": "stream",
     "text": [
      "              precision    recall  f1-score   support\n",
      "\n",
      "Medium-Light       0.00      0.00      0.00        29\n",
      "      Medium       0.00      0.00      0.00        29\n",
      "       Light       0.00      0.00      0.00         7\n",
      " Medium-Dark       0.69      1.00      0.81       157\n",
      "     Unknown       0.00      0.00      0.00         7\n",
      "\n",
      "    accuracy                           0.69       229\n",
      "   macro avg       0.14      0.20      0.16       229\n",
      "weighted avg       0.47      0.69      0.56       229\n",
      "\n"
     ]
    }
   ],
   "source": [
    "# Confusion Matrix & Classfication Report\n",
    "y_pred = LSTMModel.predict(x_test_reshaped)\n",
    "y_pred_class = np.argmax(y_pred, axis=1)\n",
    "y_test_class = np.argmax(y_test, axis=1)\n",
    "\n",
    "# classification report\n",
    "class_names = []\n",
    "for i in y['roast'].unique().tolist():\n",
    "    if i == 6 or i == 0:\n",
    "        pass\n",
    "    else:\n",
    "        class_names.append(le.inverse_transform([i])[0])\n",
    "\n",
    "#view \n",
    "print(classification_report(y_test_class, y_pred_class, target_names=class_names))"
   ]
  },
  {
   "cell_type": "markdown",
   "id": "7d850af1",
   "metadata": {
    "papermill": {
     "duration": 0.006508,
     "end_time": "2022-11-09T03:10:35.947880",
     "exception": false,
     "start_time": "2022-11-09T03:10:35.941372",
     "status": "completed"
    },
    "tags": []
   },
   "source": [
    "### Conclusion: So, yeah I believe we certainly can predict the \"roast type\" from the coffee characteristics ..."
   ]
  }
 ],
 "metadata": {
  "kernelspec": {
   "display_name": "Python 3 (ipykernel)",
   "language": "python",
   "name": "python3"
  },
  "language_info": {
   "codemirror_mode": {
    "name": "ipython",
    "version": 3
   },
   "file_extension": ".py",
   "mimetype": "text/x-python",
   "name": "python",
   "nbconvert_exporter": "python",
   "pygments_lexer": "ipython3",
   "version": "3.9.12"
  },
  "papermill": {
   "default_parameters": {},
   "duration": 99.21244,
   "end_time": "2022-11-09T03:10:38.955859",
   "environment_variables": {},
   "exception": null,
   "input_path": "__notebook__.ipynb",
   "output_path": "__notebook__.ipynb",
   "parameters": {},
   "start_time": "2022-11-09T03:08:59.743419",
   "version": "2.3.4"
  },
  "widgets": {
   "application/vnd.jupyter.widget-state+json": {
    "state": {
     "02a53d8eafc64377869da129fa0fc0fa": {
      "model_module": "@jupyter-widgets/controls",
      "model_module_version": "1.5.0",
      "model_name": "HTMLModel",
      "state": {
       "_dom_classes": [],
       "_model_module": "@jupyter-widgets/controls",
       "_model_module_version": "1.5.0",
       "_model_name": "HTMLModel",
       "_view_count": null,
       "_view_module": "@jupyter-widgets/controls",
       "_view_module_version": "1.5.0",
       "_view_name": "HTMLView",
       "description": "",
       "description_tooltip": null,
       "layout": "IPY_MODEL_f4ee4ebc7d0940e2a75dd8885cc7c377",
       "placeholder": "​",
       "style": "IPY_MODEL_97a7a81aec264eb298dbb3fd96cc39db",
       "value": " 500/500 [00:23&lt;00:00, 26.73epoch/s, loss=0.85, accuracy=0.697, val_loss=0.854, val_accuracy=0.699]"
      }
     },
     "0e1db68c990444deb6d70d9a1ac427cf": {
      "model_module": "@jupyter-widgets/base",
      "model_module_version": "1.2.0",
      "model_name": "LayoutModel",
      "state": {
       "_model_module": "@jupyter-widgets/base",
       "_model_module_version": "1.2.0",
       "_model_name": "LayoutModel",
       "_view_count": null,
       "_view_module": "@jupyter-widgets/base",
       "_view_module_version": "1.2.0",
       "_view_name": "LayoutView",
       "align_content": null,
       "align_items": null,
       "align_self": null,
       "border": null,
       "bottom": null,
       "display": null,
       "flex": null,
       "flex_flow": null,
       "grid_area": null,
       "grid_auto_columns": null,
       "grid_auto_flow": null,
       "grid_auto_rows": null,
       "grid_column": null,
       "grid_gap": null,
       "grid_row": null,
       "grid_template_areas": null,
       "grid_template_columns": null,
       "grid_template_rows": null,
       "height": null,
       "justify_content": null,
       "justify_items": null,
       "left": null,
       "margin": null,
       "max_height": null,
       "max_width": null,
       "min_height": null,
       "min_width": null,
       "object_fit": null,
       "object_position": null,
       "order": null,
       "overflow": null,
       "overflow_x": null,
       "overflow_y": null,
       "padding": null,
       "right": null,
       "top": null,
       "visibility": null,
       "width": null
      }
     },
     "2a94c5a0b2784961be7a02ddd73b2811": {
      "model_module": "@jupyter-widgets/base",
      "model_module_version": "1.2.0",
      "model_name": "LayoutModel",
      "state": {
       "_model_module": "@jupyter-widgets/base",
       "_model_module_version": "1.2.0",
       "_model_name": "LayoutModel",
       "_view_count": null,
       "_view_module": "@jupyter-widgets/base",
       "_view_module_version": "1.2.0",
       "_view_name": "LayoutView",
       "align_content": null,
       "align_items": null,
       "align_self": null,
       "border": null,
       "bottom": null,
       "display": null,
       "flex": null,
       "flex_flow": null,
       "grid_area": null,
       "grid_auto_columns": null,
       "grid_auto_flow": null,
       "grid_auto_rows": null,
       "grid_column": null,
       "grid_gap": null,
       "grid_row": null,
       "grid_template_areas": null,
       "grid_template_columns": null,
       "grid_template_rows": null,
       "height": null,
       "justify_content": null,
       "justify_items": null,
       "left": null,
       "margin": null,
       "max_height": null,
       "max_width": null,
       "min_height": null,
       "min_width": null,
       "object_fit": null,
       "object_position": null,
       "order": null,
       "overflow": null,
       "overflow_x": null,
       "overflow_y": null,
       "padding": null,
       "right": null,
       "top": null,
       "visibility": null,
       "width": null
      }
     },
     "3b03194d817642d782c2a71daebe9e14": {
      "model_module": "@jupyter-widgets/controls",
      "model_module_version": "1.5.0",
      "model_name": "HTMLModel",
      "state": {
       "_dom_classes": [],
       "_model_module": "@jupyter-widgets/controls",
       "_model_module_version": "1.5.0",
       "_model_name": "HTMLModel",
       "_view_count": null,
       "_view_module": "@jupyter-widgets/controls",
       "_view_module_version": "1.5.0",
       "_view_name": "HTMLView",
       "description": "",
       "description_tooltip": null,
       "layout": "IPY_MODEL_f86d2f7c814945f48055579cb07333ce",
       "placeholder": "​",
       "style": "IPY_MODEL_b36dfa8bf45242a085cea41da77d3bd9",
       "value": "100%"
      }
     },
     "46b7f792f26f4be7be2c222c72acbc9f": {
      "model_module": "@jupyter-widgets/controls",
      "model_module_version": "1.5.0",
      "model_name": "FloatProgressModel",
      "state": {
       "_dom_classes": [],
       "_model_module": "@jupyter-widgets/controls",
       "_model_module_version": "1.5.0",
       "_model_name": "FloatProgressModel",
       "_view_count": null,
       "_view_module": "@jupyter-widgets/controls",
       "_view_module_version": "1.5.0",
       "_view_name": "ProgressView",
       "bar_style": "success",
       "description": "",
       "description_tooltip": null,
       "layout": "IPY_MODEL_9d1b475704b64affb5153790ff18cd3a",
       "max": 500,
       "min": 0,
       "orientation": "horizontal",
       "style": "IPY_MODEL_e4554689376445e99e07e30675d669cd",
       "value": 500
      }
     },
     "55ce3d3dc809425eb0fe8d7e6b4737b5": {
      "model_module": "@jupyter-widgets/controls",
      "model_module_version": "1.5.0",
      "model_name": "HBoxModel",
      "state": {
       "_dom_classes": [],
       "_model_module": "@jupyter-widgets/controls",
       "_model_module_version": "1.5.0",
       "_model_name": "HBoxModel",
       "_view_count": null,
       "_view_module": "@jupyter-widgets/controls",
       "_view_module_version": "1.5.0",
       "_view_name": "HBoxView",
       "box_style": "",
       "children": [
        "IPY_MODEL_3b03194d817642d782c2a71daebe9e14",
        "IPY_MODEL_46b7f792f26f4be7be2c222c72acbc9f",
        "IPY_MODEL_02a53d8eafc64377869da129fa0fc0fa"
       ],
       "layout": "IPY_MODEL_0e1db68c990444deb6d70d9a1ac427cf"
      }
     },
     "624a86abb7964f68b84bf8926e43d3ec": {
      "model_module": "@jupyter-widgets/controls",
      "model_module_version": "1.5.0",
      "model_name": "HTMLModel",
      "state": {
       "_dom_classes": [],
       "_model_module": "@jupyter-widgets/controls",
       "_model_module_version": "1.5.0",
       "_model_name": "HTMLModel",
       "_view_count": null,
       "_view_module": "@jupyter-widgets/controls",
       "_view_module_version": "1.5.0",
       "_view_name": "HTMLView",
       "description": "",
       "description_tooltip": null,
       "layout": "IPY_MODEL_2a94c5a0b2784961be7a02ddd73b2811",
       "placeholder": "​",
       "style": "IPY_MODEL_9758cc0dcf694e38b5c01057cf680a30",
       "value": " 100/100 [00:22&lt;00:00,  4.47epoch/s, loss=0.927, accuracy=0.682, val_loss=0.917, val_accuracy=0.686]"
      }
     },
     "7ed075cb57e2485790af1995479b8a97": {
      "model_module": "@jupyter-widgets/base",
      "model_module_version": "1.2.0",
      "model_name": "LayoutModel",
      "state": {
       "_model_module": "@jupyter-widgets/base",
       "_model_module_version": "1.2.0",
       "_model_name": "LayoutModel",
       "_view_count": null,
       "_view_module": "@jupyter-widgets/base",
       "_view_module_version": "1.2.0",
       "_view_name": "LayoutView",
       "align_content": null,
       "align_items": null,
       "align_self": null,
       "border": null,
       "bottom": null,
       "display": null,
       "flex": null,
       "flex_flow": null,
       "grid_area": null,
       "grid_auto_columns": null,
       "grid_auto_flow": null,
       "grid_auto_rows": null,
       "grid_column": null,
       "grid_gap": null,
       "grid_row": null,
       "grid_template_areas": null,
       "grid_template_columns": null,
       "grid_template_rows": null,
       "height": null,
       "justify_content": null,
       "justify_items": null,
       "left": null,
       "margin": null,
       "max_height": null,
       "max_width": null,
       "min_height": null,
       "min_width": null,
       "object_fit": null,
       "object_position": null,
       "order": null,
       "overflow": null,
       "overflow_x": null,
       "overflow_y": null,
       "padding": null,
       "right": null,
       "top": null,
       "visibility": null,
       "width": null
      }
     },
     "9713e8722c5448e3857988be7a45c275": {
      "model_module": "@jupyter-widgets/controls",
      "model_module_version": "1.5.0",
      "model_name": "ProgressStyleModel",
      "state": {
       "_model_module": "@jupyter-widgets/controls",
       "_model_module_version": "1.5.0",
       "_model_name": "ProgressStyleModel",
       "_view_count": null,
       "_view_module": "@jupyter-widgets/base",
       "_view_module_version": "1.2.0",
       "_view_name": "StyleView",
       "bar_color": null,
       "description_width": ""
      }
     },
     "9758cc0dcf694e38b5c01057cf680a30": {
      "model_module": "@jupyter-widgets/controls",
      "model_module_version": "1.5.0",
      "model_name": "DescriptionStyleModel",
      "state": {
       "_model_module": "@jupyter-widgets/controls",
       "_model_module_version": "1.5.0",
       "_model_name": "DescriptionStyleModel",
       "_view_count": null,
       "_view_module": "@jupyter-widgets/base",
       "_view_module_version": "1.2.0",
       "_view_name": "StyleView",
       "description_width": ""
      }
     },
     "97a7a81aec264eb298dbb3fd96cc39db": {
      "model_module": "@jupyter-widgets/controls",
      "model_module_version": "1.5.0",
      "model_name": "DescriptionStyleModel",
      "state": {
       "_model_module": "@jupyter-widgets/controls",
       "_model_module_version": "1.5.0",
       "_model_name": "DescriptionStyleModel",
       "_view_count": null,
       "_view_module": "@jupyter-widgets/base",
       "_view_module_version": "1.2.0",
       "_view_name": "StyleView",
       "description_width": ""
      }
     },
     "9bf1032c60f743308e13a750399c2ae2": {
      "model_module": "@jupyter-widgets/controls",
      "model_module_version": "1.5.0",
      "model_name": "HTMLModel",
      "state": {
       "_dom_classes": [],
       "_model_module": "@jupyter-widgets/controls",
       "_model_module_version": "1.5.0",
       "_model_name": "HTMLModel",
       "_view_count": null,
       "_view_module": "@jupyter-widgets/controls",
       "_view_module_version": "1.5.0",
       "_view_name": "HTMLView",
       "description": "",
       "description_tooltip": null,
       "layout": "IPY_MODEL_ebcd987c3aa24126babcb3eead5e44bf",
       "placeholder": "​",
       "style": "IPY_MODEL_ca5b5e4a8e32437ba2821bd20c24343c",
       "value": "100%"
      }
     },
     "9d1b475704b64affb5153790ff18cd3a": {
      "model_module": "@jupyter-widgets/base",
      "model_module_version": "1.2.0",
      "model_name": "LayoutModel",
      "state": {
       "_model_module": "@jupyter-widgets/base",
       "_model_module_version": "1.2.0",
       "_model_name": "LayoutModel",
       "_view_count": null,
       "_view_module": "@jupyter-widgets/base",
       "_view_module_version": "1.2.0",
       "_view_name": "LayoutView",
       "align_content": null,
       "align_items": null,
       "align_self": null,
       "border": null,
       "bottom": null,
       "display": null,
       "flex": null,
       "flex_flow": null,
       "grid_area": null,
       "grid_auto_columns": null,
       "grid_auto_flow": null,
       "grid_auto_rows": null,
       "grid_column": null,
       "grid_gap": null,
       "grid_row": null,
       "grid_template_areas": null,
       "grid_template_columns": null,
       "grid_template_rows": null,
       "height": null,
       "justify_content": null,
       "justify_items": null,
       "left": null,
       "margin": null,
       "max_height": null,
       "max_width": null,
       "min_height": null,
       "min_width": null,
       "object_fit": null,
       "object_position": null,
       "order": null,
       "overflow": null,
       "overflow_x": null,
       "overflow_y": null,
       "padding": null,
       "right": null,
       "top": null,
       "visibility": null,
       "width": null
      }
     },
     "9ff8b6d8e3fa4995b84eb55f021c0dac": {
      "model_module": "@jupyter-widgets/base",
      "model_module_version": "1.2.0",
      "model_name": "LayoutModel",
      "state": {
       "_model_module": "@jupyter-widgets/base",
       "_model_module_version": "1.2.0",
       "_model_name": "LayoutModel",
       "_view_count": null,
       "_view_module": "@jupyter-widgets/base",
       "_view_module_version": "1.2.0",
       "_view_name": "LayoutView",
       "align_content": null,
       "align_items": null,
       "align_self": null,
       "border": null,
       "bottom": null,
       "display": null,
       "flex": null,
       "flex_flow": null,
       "grid_area": null,
       "grid_auto_columns": null,
       "grid_auto_flow": null,
       "grid_auto_rows": null,
       "grid_column": null,
       "grid_gap": null,
       "grid_row": null,
       "grid_template_areas": null,
       "grid_template_columns": null,
       "grid_template_rows": null,
       "height": null,
       "justify_content": null,
       "justify_items": null,
       "left": null,
       "margin": null,
       "max_height": null,
       "max_width": null,
       "min_height": null,
       "min_width": null,
       "object_fit": null,
       "object_position": null,
       "order": null,
       "overflow": null,
       "overflow_x": null,
       "overflow_y": null,
       "padding": null,
       "right": null,
       "top": null,
       "visibility": null,
       "width": null
      }
     },
     "b36dfa8bf45242a085cea41da77d3bd9": {
      "model_module": "@jupyter-widgets/controls",
      "model_module_version": "1.5.0",
      "model_name": "DescriptionStyleModel",
      "state": {
       "_model_module": "@jupyter-widgets/controls",
       "_model_module_version": "1.5.0",
       "_model_name": "DescriptionStyleModel",
       "_view_count": null,
       "_view_module": "@jupyter-widgets/base",
       "_view_module_version": "1.2.0",
       "_view_name": "StyleView",
       "description_width": ""
      }
     },
     "bde9671ba8304a50adb4c1bb850eb959": {
      "model_module": "@jupyter-widgets/controls",
      "model_module_version": "1.5.0",
      "model_name": "FloatProgressModel",
      "state": {
       "_dom_classes": [],
       "_model_module": "@jupyter-widgets/controls",
       "_model_module_version": "1.5.0",
       "_model_name": "FloatProgressModel",
       "_view_count": null,
       "_view_module": "@jupyter-widgets/controls",
       "_view_module_version": "1.5.0",
       "_view_name": "ProgressView",
       "bar_style": "success",
       "description": "",
       "description_tooltip": null,
       "layout": "IPY_MODEL_9ff8b6d8e3fa4995b84eb55f021c0dac",
       "max": 100,
       "min": 0,
       "orientation": "horizontal",
       "style": "IPY_MODEL_9713e8722c5448e3857988be7a45c275",
       "value": 100
      }
     },
     "ca5b5e4a8e32437ba2821bd20c24343c": {
      "model_module": "@jupyter-widgets/controls",
      "model_module_version": "1.5.0",
      "model_name": "DescriptionStyleModel",
      "state": {
       "_model_module": "@jupyter-widgets/controls",
       "_model_module_version": "1.5.0",
       "_model_name": "DescriptionStyleModel",
       "_view_count": null,
       "_view_module": "@jupyter-widgets/base",
       "_view_module_version": "1.2.0",
       "_view_name": "StyleView",
       "description_width": ""
      }
     },
     "d048fb0c9b0047b8a3f66e715ef0f563": {
      "model_module": "@jupyter-widgets/controls",
      "model_module_version": "1.5.0",
      "model_name": "HBoxModel",
      "state": {
       "_dom_classes": [],
       "_model_module": "@jupyter-widgets/controls",
       "_model_module_version": "1.5.0",
       "_model_name": "HBoxModel",
       "_view_count": null,
       "_view_module": "@jupyter-widgets/controls",
       "_view_module_version": "1.5.0",
       "_view_name": "HBoxView",
       "box_style": "",
       "children": [
        "IPY_MODEL_9bf1032c60f743308e13a750399c2ae2",
        "IPY_MODEL_bde9671ba8304a50adb4c1bb850eb959",
        "IPY_MODEL_624a86abb7964f68b84bf8926e43d3ec"
       ],
       "layout": "IPY_MODEL_7ed075cb57e2485790af1995479b8a97"
      }
     },
     "e4554689376445e99e07e30675d669cd": {
      "model_module": "@jupyter-widgets/controls",
      "model_module_version": "1.5.0",
      "model_name": "ProgressStyleModel",
      "state": {
       "_model_module": "@jupyter-widgets/controls",
       "_model_module_version": "1.5.0",
       "_model_name": "ProgressStyleModel",
       "_view_count": null,
       "_view_module": "@jupyter-widgets/base",
       "_view_module_version": "1.2.0",
       "_view_name": "StyleView",
       "bar_color": null,
       "description_width": ""
      }
     },
     "ebcd987c3aa24126babcb3eead5e44bf": {
      "model_module": "@jupyter-widgets/base",
      "model_module_version": "1.2.0",
      "model_name": "LayoutModel",
      "state": {
       "_model_module": "@jupyter-widgets/base",
       "_model_module_version": "1.2.0",
       "_model_name": "LayoutModel",
       "_view_count": null,
       "_view_module": "@jupyter-widgets/base",
       "_view_module_version": "1.2.0",
       "_view_name": "LayoutView",
       "align_content": null,
       "align_items": null,
       "align_self": null,
       "border": null,
       "bottom": null,
       "display": null,
       "flex": null,
       "flex_flow": null,
       "grid_area": null,
       "grid_auto_columns": null,
       "grid_auto_flow": null,
       "grid_auto_rows": null,
       "grid_column": null,
       "grid_gap": null,
       "grid_row": null,
       "grid_template_areas": null,
       "grid_template_columns": null,
       "grid_template_rows": null,
       "height": null,
       "justify_content": null,
       "justify_items": null,
       "left": null,
       "margin": null,
       "max_height": null,
       "max_width": null,
       "min_height": null,
       "min_width": null,
       "object_fit": null,
       "object_position": null,
       "order": null,
       "overflow": null,
       "overflow_x": null,
       "overflow_y": null,
       "padding": null,
       "right": null,
       "top": null,
       "visibility": null,
       "width": null
      }
     },
     "f4ee4ebc7d0940e2a75dd8885cc7c377": {
      "model_module": "@jupyter-widgets/base",
      "model_module_version": "1.2.0",
      "model_name": "LayoutModel",
      "state": {
       "_model_module": "@jupyter-widgets/base",
       "_model_module_version": "1.2.0",
       "_model_name": "LayoutModel",
       "_view_count": null,
       "_view_module": "@jupyter-widgets/base",
       "_view_module_version": "1.2.0",
       "_view_name": "LayoutView",
       "align_content": null,
       "align_items": null,
       "align_self": null,
       "border": null,
       "bottom": null,
       "display": null,
       "flex": null,
       "flex_flow": null,
       "grid_area": null,
       "grid_auto_columns": null,
       "grid_auto_flow": null,
       "grid_auto_rows": null,
       "grid_column": null,
       "grid_gap": null,
       "grid_row": null,
       "grid_template_areas": null,
       "grid_template_columns": null,
       "grid_template_rows": null,
       "height": null,
       "justify_content": null,
       "justify_items": null,
       "left": null,
       "margin": null,
       "max_height": null,
       "max_width": null,
       "min_height": null,
       "min_width": null,
       "object_fit": null,
       "object_position": null,
       "order": null,
       "overflow": null,
       "overflow_x": null,
       "overflow_y": null,
       "padding": null,
       "right": null,
       "top": null,
       "visibility": null,
       "width": null
      }
     },
     "f86d2f7c814945f48055579cb07333ce": {
      "model_module": "@jupyter-widgets/base",
      "model_module_version": "1.2.0",
      "model_name": "LayoutModel",
      "state": {
       "_model_module": "@jupyter-widgets/base",
       "_model_module_version": "1.2.0",
       "_model_name": "LayoutModel",
       "_view_count": null,
       "_view_module": "@jupyter-widgets/base",
       "_view_module_version": "1.2.0",
       "_view_name": "LayoutView",
       "align_content": null,
       "align_items": null,
       "align_self": null,
       "border": null,
       "bottom": null,
       "display": null,
       "flex": null,
       "flex_flow": null,
       "grid_area": null,
       "grid_auto_columns": null,
       "grid_auto_flow": null,
       "grid_auto_rows": null,
       "grid_column": null,
       "grid_gap": null,
       "grid_row": null,
       "grid_template_areas": null,
       "grid_template_columns": null,
       "grid_template_rows": null,
       "height": null,
       "justify_content": null,
       "justify_items": null,
       "left": null,
       "margin": null,
       "max_height": null,
       "max_width": null,
       "min_height": null,
       "min_width": null,
       "object_fit": null,
       "object_position": null,
       "order": null,
       "overflow": null,
       "overflow_x": null,
       "overflow_y": null,
       "padding": null,
       "right": null,
       "top": null,
       "visibility": null,
       "width": null
      }
     }
    },
    "version_major": 2,
    "version_minor": 0
   }
  }
 },
 "nbformat": 4,
 "nbformat_minor": 5
}
